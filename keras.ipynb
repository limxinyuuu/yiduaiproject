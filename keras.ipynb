{
 "cells": [
  {
   "cell_type": "code",
   "execution_count": 1,
   "metadata": {},
   "outputs": [],
   "source": [
    "import pandas as pd\n",
    "import numpy as np\n",
    "from sklearn.model_selection import train_test_split"
   ]
  },
  {
   "cell_type": "code",
   "execution_count": 2,
   "metadata": {},
   "outputs": [],
   "source": [
    "dataframe=pd.read_csv(\"Training Data 2017 2018.csv\")"
   ]
  },
  {
   "cell_type": "code",
   "execution_count": 3,
   "metadata": {},
   "outputs": [],
   "source": [
    "dataframe=dataframe.drop(\"Unnamed: 0\",axis=1)"
   ]
  },
  {
   "cell_type": "code",
   "execution_count": 4,
   "metadata": {},
   "outputs": [
    {
     "name": "stdout",
     "output_type": "stream",
     "text": [
      "white house correspondents dinner dead know total disaster embarrassment great country stands fake news alive well beautifully represented saturday night\n"
     ]
    }
   ],
   "source": [
    "print(dataframe['text'][1])"
   ]
  },
  {
   "cell_type": "code",
   "execution_count": 5,
   "metadata": {},
   "outputs": [],
   "source": [
    "from sklearn.utils import shuffle\n",
    "dataframe_s = shuffle(dataframe)"
   ]
  },
  {
   "cell_type": "code",
   "execution_count": 6,
   "metadata": {},
   "outputs": [],
   "source": [
    "train=dataframe_s.iloc[:2401,:]\n",
    "test=dataframe_s.iloc[2402:2835,:]"
   ]
  },
  {
   "cell_type": "code",
   "execution_count": 7,
   "metadata": {},
   "outputs": [],
   "source": [
    "train=train.dropna()\n",
    "train=train.drop(columns=['Date'])\n",
    "train['label']=train['label']+2\n",
    "test=test.dropna()\n",
    "test['label']=test['label']+2"
   ]
  },
  {
   "cell_type": "markdown",
   "metadata": {},
   "source": [
    "from keras.utils.np_utils import to_categorical\n",
    "y_train=to_categorical(train['label'])\n",
    "num_class=y_train.shape[1]\n",
    "print(\"num_class=\",y_train.shape)"
   ]
  },
  {
   "cell_type": "code",
   "execution_count": 8,
   "metadata": {},
   "outputs": [
    {
     "name": "stderr",
     "output_type": "stream",
     "text": [
      "C:\\Users\\qinke\\Anaconda3\\lib\\site-packages\\h5py\\__init__.py:36: FutureWarning: Conversion of the second argument of issubdtype from `float` to `np.floating` is deprecated. In future, it will be treated as `np.float64 == np.dtype(float).type`.\n",
      "  from ._conv import register_converters as _register_converters\n",
      "Using TensorFlow backend.\n"
     ]
    }
   ],
   "source": [
    "from keras.preprocessing.text import Tokenizer\n",
    "tokenizer = Tokenizer(num_words=5000)"
   ]
  },
  {
   "cell_type": "code",
   "execution_count": 9,
   "metadata": {},
   "outputs": [],
   "source": [
    "tokenizer.fit_on_texts(train['text'])"
   ]
  },
  {
   "cell_type": "code",
   "execution_count": 10,
   "metadata": {},
   "outputs": [],
   "source": [
    "x_train=tokenizer.texts_to_matrix(train['text'])\n",
    "x_test=tokenizer.texts_to_matrix(test['text'])"
   ]
  },
  {
   "cell_type": "code",
   "execution_count": 11,
   "metadata": {},
   "outputs": [
    {
     "data": {
      "text/plain": [
       "(2379, 5000, 1)"
      ]
     },
     "execution_count": 11,
     "metadata": {},
     "output_type": "execute_result"
    }
   ],
   "source": [
    "x_train=x_train.reshape(x_train.shape[0],5000,1)\n",
    "x_train.shape"
   ]
  },
  {
   "cell_type": "code",
   "execution_count": 12,
   "metadata": {},
   "outputs": [
    {
     "data": {
      "text/plain": [
       "(423, 5000, 1)"
      ]
     },
     "execution_count": 12,
     "metadata": {},
     "output_type": "execute_result"
    }
   ],
   "source": [
    "x_test=x_test.reshape(x_test.shape[0],5000,1)\n",
    "x_test.shape"
   ]
  },
  {
   "cell_type": "code",
   "execution_count": 13,
   "metadata": {},
   "outputs": [
    {
     "name": "stdout",
     "output_type": "stream",
     "text": [
      "(2379, 5000, 1)\n"
     ]
    }
   ],
   "source": [
    "print(x_train.shape)"
   ]
  },
  {
   "cell_type": "code",
   "execution_count": 14,
   "metadata": {},
   "outputs": [],
   "source": [
    "x_train,x_val,y_train,y_val=train_test_split(x_train,train['label'],test_size=0.10,random_state=42)"
   ]
  },
  {
   "cell_type": "code",
   "execution_count": 15,
   "metadata": {},
   "outputs": [
    {
     "name": "stdout",
     "output_type": "stream",
     "text": [
      "(2141, 5000, 1)\n"
     ]
    }
   ],
   "source": [
    "print(x_train.shape)"
   ]
  },
  {
   "cell_type": "markdown",
   "metadata": {},
   "source": [
    "x_train,x_val,y_train,y_val=train_test_split(x_train,train['label'],test_size=0.10,random_state=42)"
   ]
  },
  {
   "cell_type": "code",
   "execution_count": 16,
   "metadata": {},
   "outputs": [],
   "source": [
    "from keras.callbacks import EarlyStopping\n",
    "from keras.layers import BatchNormalization,Convolution2D, MaxPooling2D\n",
    "from keras.layers import Dense , Dropout, Lambda, Flatten\n",
    "from keras import Sequential"
   ]
  },
  {
   "cell_type": "code",
   "execution_count": 17,
   "metadata": {},
   "outputs": [],
   "source": [
    "from keras.models import Sequential\n",
    "from keras.layers import Dense\n",
    "model=Sequential()\n",
    "model.add(Dense(250,input_shape=(5000, 1),activation='relu'))\n",
    "#here the standardize is the function we define upwords\n",
    "model.add(Dense(50,activation='relu'))\n",
    "model.add(Flatten())\n",
    "model.add(Dense(5,activation='softmax'))\n",
    "#only with softmax, it is a linear model"
   ]
  },
  {
   "cell_type": "code",
   "execution_count": 18,
   "metadata": {},
   "outputs": [],
   "source": [
    "from keras.optimizers import SGD \n",
    "sgd = SGD(lr=0.01, decay=1e-6, momentum=0.9, nesterov=True)\n",
    "model.compile(loss='sparse_categorical_crossentropy', optimizer=sgd, metrics=['accuracy'])"
   ]
  },
  {
   "cell_type": "code",
   "execution_count": 19,
   "metadata": {},
   "outputs": [
    {
     "name": "stdout",
     "output_type": "stream",
     "text": [
      "WARNING:tensorflow:Variable *= will be deprecated. Use `var.assign(var * other)` if you want assignment to the variable value or `x = x * y` if you want a new python Tensor object.\n",
      "Train on 2141 samples, validate on 238 samples\n",
      "Epoch 1/20\n",
      "2141/2141 [==============================] - 49s 23ms/step - loss: 1.5385 - acc: 0.3400 - val_loss: 1.4872 - val_acc: 0.3361\n",
      "Epoch 2/20\n",
      "2141/2141 [==============================] - 48s 22ms/step - loss: 1.4885 - acc: 0.3685 - val_loss: 1.4837 - val_acc: 0.3361\n",
      "Epoch 3/20\n",
      "2141/2141 [==============================] - 48s 23ms/step - loss: 1.4870 - acc: 0.3685 - val_loss: 1.4864 - val_acc: 0.3361\n",
      "Epoch 4/20\n",
      "2141/2141 [==============================] - 45s 21ms/step - loss: 1.4806 - acc: 0.3685 - val_loss: 1.4738 - val_acc: 0.3361\n",
      "Epoch 5/20\n",
      "2141/2141 [==============================] - 46s 21ms/step - loss: 1.4752 - acc: 0.3685 - val_loss: 1.4884 - val_acc: 0.3361\n",
      "Epoch 6/20\n",
      "2141/2141 [==============================] - 46s 21ms/step - loss: 1.4720 - acc: 0.3685 - val_loss: 1.4744 - val_acc: 0.3361\n",
      "Epoch 7/20\n",
      "2141/2141 [==============================] - 46s 22ms/step - loss: 1.4575 - acc: 0.3713 - val_loss: 1.4831 - val_acc: 0.3361\n",
      "Epoch 8/20\n",
      "2141/2141 [==============================] - 46s 21ms/step - loss: 1.4380 - acc: 0.3755 - val_loss: 1.4949 - val_acc: 0.3319\n",
      "Epoch 9/20\n",
      "2141/2141 [==============================] - 46s 21ms/step - loss: 1.4131 - acc: 0.3830 - val_loss: 1.4696 - val_acc: 0.3361\n",
      "Epoch 10/20\n",
      "2141/2141 [==============================] - 47s 22ms/step - loss: 1.3655 - acc: 0.4176 - val_loss: 1.4666 - val_acc: 0.3445\n",
      "Epoch 11/20\n",
      "2141/2141 [==============================] - 48s 22ms/step - loss: 1.3005 - acc: 0.4727 - val_loss: 1.4467 - val_acc: 0.3697\n",
      "Epoch 12/20\n",
      "2141/2141 [==============================] - 46s 21ms/step - loss: 1.2053 - acc: 0.5474 - val_loss: 1.4615 - val_acc: 0.3739\n",
      "Epoch 13/20\n",
      "2141/2141 [==============================] - 47s 22ms/step - loss: 1.0821 - acc: 0.6109 - val_loss: 1.5503 - val_acc: 0.3025\n",
      "Epoch 14/20\n",
      "2141/2141 [==============================] - 48s 23ms/step - loss: 0.9444 - acc: 0.6791 - val_loss: 1.5583 - val_acc: 0.3571\n",
      "Epoch 15/20\n",
      "2141/2141 [==============================] - 46s 21ms/step - loss: 0.7902 - acc: 0.7482 - val_loss: 1.6587 - val_acc: 0.3697\n",
      "Epoch 16/20\n",
      "2141/2141 [==============================] - 46s 21ms/step - loss: 0.6409 - acc: 0.8127 - val_loss: 1.8462 - val_acc: 0.3697\n",
      "Epoch 17/20\n",
      "2141/2141 [==============================] - 45s 21ms/step - loss: 0.5145 - acc: 0.8603 - val_loss: 1.8705 - val_acc: 0.3571\n",
      "Epoch 18/20\n",
      "2141/2141 [==============================] - 44s 21ms/step - loss: 0.4016 - acc: 0.9019 - val_loss: 2.0535 - val_acc: 0.3109\n",
      "Epoch 19/20\n",
      "2141/2141 [==============================] - 47s 22ms/step - loss: 0.3173 - acc: 0.9248 - val_loss: 2.1901 - val_acc: 0.3319\n",
      "Epoch 20/20\n",
      "2141/2141 [==============================] - 45s 21ms/step - loss: 0.2618 - acc: 0.9426 - val_loss: 2.3514 - val_acc: 0.3067\n"
     ]
    }
   ],
   "source": [
    "history = model.fit(x_train, # Features\n",
    "                      y_train, # Target\n",
    "                      epochs=20, # Number of epochs\n",
    "                      verbose=1, # No output\n",
    "                      batch_size=100, # Number of observations per batch\n",
    "                      validation_data=(x_val, y_val)) # Data for evaluation"
   ]
  },
  {
   "cell_type": "code",
   "execution_count": 20,
   "metadata": {},
   "outputs": [],
   "source": [
    "import matplotlib.pyplot as plt"
   ]
  },
  {
   "cell_type": "code",
   "execution_count": 21,
   "metadata": {},
   "outputs": [
    {
     "data": {
      "image/png": "[encoded data removed]",
      "text/plain": [
       "<Figure size 432x288 with 1 Axes>"
      ]
     },
     "metadata": {},
     "output_type": "display_data"
    }
   ],
   "source": [
    "# Get training and test loss histories\n",
    "training_loss = history.history['loss']\n",
    "test_loss = history.history['val_loss']\n",
    "\n",
    "# Create count of the number of epochs\n",
    "epoch_count = range(1, len(training_loss) + 1)\n",
    "\n",
    "# Visualize loss history\n",
    "plt.plot(epoch_count, training_loss, 'r--')\n",
    "plt.plot(epoch_count, test_loss, 'b-')\n",
    "plt.legend(['Training Loss', 'Test Loss'])\n",
    "plt.xlabel('Epoch')\n",
    "plt.ylabel('Loss')\n",
    "plt.show();"
   ]
  },
  {
   "cell_type": "code",
   "execution_count": 22,
   "metadata": {},
   "outputs": [
    {
     "data": {
      "image/png": "[encoded data removed]",
      "text/plain": [
       "<Figure size 432x288 with 1 Axes>"
      ]
     },
     "metadata": {},
     "output_type": "display_data"
    }
   ],
   "source": [
    "# Get training and test loss histories\n",
    "training_loss = history.history['acc']\n",
    "test_loss = history.history['val_acc']\n",
    "\n",
    "# Create count of the number of epochs\n",
    "epoch_count = range(1, len(training_loss) + 1)\n",
    "\n",
    "# Visualize loss history\n",
    "plt.plot(epoch_count, training_loss, 'r--')\n",
    "plt.plot(epoch_count, test_loss, 'b-')\n",
    "plt.legend(['Training acc', 'Test acc'])\n",
    "plt.xlabel('Epoch')\n",
    "plt.ylabel('acc')\n",
    "plt.show();"
   ]
  },
  {
   "cell_type": "code",
   "execution_count": 23,
   "metadata": {},
   "outputs": [],
   "source": [
    "predict_table = pd.DataFrame( columns=['text','label'],index=['1'])"
   ]
  },
  {
   "cell_type": "code",
   "execution_count": 24,
   "metadata": {},
   "outputs": [
    {
     "name": "stdout",
     "output_type": "stream",
     "text": [
      "                                text label\n",
      "1  white house correspondents dinner   NaN\n"
     ]
    }
   ],
   "source": [
    "predict_table['text'][0]=\"white house correspondents dinner\"\n",
    "print(predict_table)\n"
   ]
  },
  {
   "cell_type": "code",
   "execution_count": 25,
   "metadata": {},
   "outputs": [
    {
     "name": "stdout",
     "output_type": "stream",
     "text": [
      "(1, 5000)\n"
     ]
    }
   ],
   "source": [
    "today=tokenizer.texts_to_matrix(predict_table['text'])\n",
    "print(today.shape)\n",
    "today=today.reshape(today.shape[0],5000,1)"
   ]
  },
  {
   "cell_type": "code",
   "execution_count": 26,
   "metadata": {},
   "outputs": [
    {
     "name": "stdout",
     "output_type": "stream",
     "text": [
      "[[0.01502048 0.37826887 0.01557266 0.48560733 0.10553068]]\n"
     ]
    }
   ],
   "source": [
    "X=model.predict(today)\n",
    "print(model.predict(today))"
   ]
  },
  {
   "cell_type": "code",
   "execution_count": 27,
   "metadata": {},
   "outputs": [
    {
     "name": "stdout",
     "output_type": "stream",
     "text": [
      "                                text label\n",
      "1  white house correspondents dinner   [3]\n"
     ]
    }
   ],
   "source": [
    "predict_table['label'][0]=np.argmax(X,axis=1)\n",
    "print(predict_table)"
   ]
  },
  {
   "cell_type": "code",
   "execution_count": 28,
   "metadata": {},
   "outputs": [],
   "source": [
    "x=model.predict(x_test)"
   ]
  },
  {
   "cell_type": "code",
   "execution_count": 29,
   "metadata": {},
   "outputs": [],
   "source": [
    "from pandas.core.frame import DataFrame"
   ]
  },
  {
   "cell_type": "code",
   "execution_count": 30,
   "metadata": {},
   "outputs": [],
   "source": [
    "X=DataFrame(x)"
   ]
  },
  {
   "cell_type": "code",
   "execution_count": 31,
   "metadata": {
    "scrolled": true
   },
   "outputs": [
    {
     "name": "stdout",
     "output_type": "stream",
     "text": [
      "            0         1         2         3         4\n",
      "0    0.005273  0.001463  0.157726  0.001451  0.834087\n",
      "1    0.028376  0.103930  0.004226  0.861659  0.001809\n",
      "2    0.001480  0.005031  0.069863  0.919740  0.003886\n",
      "3    0.086097  0.308586  0.043086  0.476517  0.085714\n",
      "4    0.036590  0.202017  0.021138  0.734477  0.005778\n",
      "5    0.108515  0.126814  0.000035  0.756839  0.007797\n",
      "6    0.005638  0.759156  0.014951  0.009376  0.210878\n",
      "7    0.079374  0.516461  0.024135  0.260186  0.119844\n",
      "8    0.382708  0.367416  0.039191  0.016428  0.194256\n",
      "9    0.735781  0.104368  0.002343  0.058334  0.099174\n",
      "10   0.030670  0.157696  0.002061  0.012230  0.797343\n",
      "11   0.060938  0.375588  0.168748  0.368215  0.026511\n",
      "12   0.345487  0.384770  0.002020  0.083573  0.184151\n",
      "13   0.004261  0.925771  0.002473  0.024647  0.042848\n",
      "14   0.036271  0.153884  0.001803  0.802226  0.005816\n",
      "15   0.000076  0.007310  0.209546  0.058216  0.724851\n",
      "16   0.006533  0.024318  0.530719  0.370345  0.068084\n",
      "17   0.028179  0.672159  0.002348  0.022095  0.275219\n",
      "18   0.034906  0.004231  0.000028  0.960813  0.000022\n",
      "19   0.014186  0.017016  0.002293  0.943497  0.023007\n",
      "20   0.001874  0.050461  0.029693  0.907526  0.010445\n",
      "21   0.000040  0.003341  0.000855  0.005934  0.989830\n",
      "22   0.121543  0.686188  0.010007  0.121254  0.061008\n",
      "23   0.025934  0.810245  0.010301  0.050547  0.102973\n",
      "24   0.099827  0.422680  0.006740  0.107833  0.362921\n",
      "25   0.134452  0.338703  0.012887  0.506873  0.007085\n",
      "26   0.364019  0.354390  0.001444  0.153463  0.126684\n",
      "27   0.039930  0.040432  0.475218  0.003967  0.440454\n",
      "28   0.003279  0.044208  0.007962  0.860994  0.083557\n",
      "29   0.026968  0.777267  0.006771  0.063432  0.125562\n",
      "..        ...       ...       ...       ...       ...\n",
      "393  0.000253  0.999386  0.000113  0.000082  0.000166\n",
      "394  0.107909  0.018883  0.194506  0.573337  0.105364\n",
      "395  0.245988  0.486336  0.000242  0.233317  0.034118\n",
      "396  0.012222  0.901348  0.008892  0.031834  0.045703\n",
      "397  0.183105  0.144543  0.053069  0.467915  0.151367\n",
      "398  0.042684  0.133555  0.077447  0.174772  0.571543\n",
      "399  0.085103  0.480120  0.000392  0.187153  0.247232\n",
      "400  0.000112  0.017328  0.003686  0.932171  0.046703\n",
      "401  0.000906  0.014050  0.001442  0.000591  0.983011\n",
      "402  0.115733  0.798358  0.007122  0.045840  0.032947\n",
      "403  0.004161  0.053895  0.000793  0.853392  0.087759\n",
      "404  0.166517  0.513704  0.100756  0.190288  0.028735\n",
      "405  0.360928  0.624447  0.000872  0.013324  0.000429\n",
      "406  0.023746  0.139471  0.028501  0.679018  0.129265\n",
      "407  0.575188  0.024734  0.006128  0.378921  0.015030\n",
      "408  0.010612  0.097462  0.044184  0.715413  0.132330\n",
      "409  0.003506  0.196523  0.045863  0.243594  0.510514\n",
      "410  0.054026  0.003766  0.032639  0.125649  0.783921\n",
      "411  0.357272  0.143198  0.034946  0.350833  0.113751\n",
      "412  0.058348  0.327942  0.089777  0.422636  0.101297\n",
      "413  0.092265  0.497076  0.038299  0.196138  0.176222\n",
      "414  0.048759  0.007550  0.053916  0.256444  0.633331\n",
      "415  0.736151  0.113565  0.017000  0.034012  0.099272\n",
      "416  0.127973  0.593769  0.032183  0.168744  0.077331\n",
      "417  0.402195  0.222113  0.193131  0.072848  0.109713\n",
      "418  0.404299  0.082376  0.001015  0.288211  0.224099\n",
      "419  0.000666  0.001110  0.190310  0.779442  0.028472\n",
      "420  0.306477  0.318140  0.000006  0.373568  0.001808\n",
      "421  0.121448  0.388056  0.069745  0.280257  0.140493\n",
      "422  0.073119  0.537000  0.163082  0.130400  0.096399\n",
      "\n",
      "[423 rows x 5 columns]\n"
     ]
    }
   ],
   "source": [
    "print(X)"
   ]
  },
  {
   "cell_type": "code",
   "execution_count": 32,
   "metadata": {},
   "outputs": [],
   "source": [
    "X['max_value']=X.max(axis=1)\n",
    "X['max_index']=np.argmax(x,axis=1)"
   ]
  },
  {
   "cell_type": "code",
   "execution_count": 33,
   "metadata": {},
   "outputs": [],
   "source": [
    "predict_test_y=np.array(X['max_index'])\n",
    "test_y=np.array(test['label'])"
   ]
  },
  {
   "cell_type": "code",
   "execution_count": 34,
   "metadata": {},
   "outputs": [
    {
     "data": {
      "text/plain": [
       "138"
      ]
     },
     "execution_count": 34,
     "metadata": {},
     "output_type": "execute_result"
    }
   ],
   "source": [
    "sum(predict_test_y==test_y)"
   ]
  },
  {
   "cell_type": "code",
   "execution_count": 35,
   "metadata": {},
   "outputs": [],
   "source": [
    "X['predict']=predict_test_y\n",
    "X['acc']=test['label']+2"
   ]
  },
  {
   "cell_type": "code",
   "execution_count": 36,
   "metadata": {},
   "outputs": [],
   "source": [
    "y=DataFrame(columns=['predict','acc'])"
   ]
  },
  {
   "cell_type": "code",
   "execution_count": 37,
   "metadata": {},
   "outputs": [],
   "source": [
    "y['predict']=X['predict']\n",
    "y['acc']=test['label']+2"
   ]
  },
  {
   "cell_type": "code",
   "execution_count": 38,
   "metadata": {},
   "outputs": [],
   "source": [
    "final_table = pd.DataFrame({'text':test['text'],'actual':test['label']+2,'predicted':predict_test_y})"
   ]
  },
  {
   "cell_type": "code",
   "execution_count": 39,
   "metadata": {},
   "outputs": [
    {
     "name": "stdout",
     "output_type": "stream",
     "text": [
      "                                                   text  actual  predicted\n",
      "256   daca abandoned democrats unfair would tied des...       6          4\n",
      "124   big questions comey badly reviewed book answer...       2          3\n",
      "428   strongly pushing comprehensive background chec...       2          3\n",
      "1366                                               join       3          3\n",
      "2269  today welcomed victory christian center school...       3          3\n",
      "1757  failing made every wrong prediction including ...       5          3\n",
      "184   despite aluminum tariffs aluminum prices peopl...       6          1\n",
      "2061                                 make america great       2          1\n",
      "2707               congratulations new attorney general       3          0\n",
      "528   disgraceful person illegally country killed li...       5          0\n",
      "880   lawsuit leadership consumer financial protecti...       3          4\n",
      "195   briefed shooting youtube hq san bruno californ...       2          1\n",
      "780   reason originally endorsed luther strange numb...       3          1\n",
      "253   obama administration legalized bump stocks bad...       6          1\n",
      "1550  encourage everyone path heed advice orders loc...       3          3\n",
      "334   spoke pm australia committed fair reciprocal m...       3          4\n",
      "666   cutting taxes simplifying regulations makes am...       4          2\n",
      "2549  ceo optimistic since get better continue slash...       2          1\n",
      "1631  senate republicans get rid filibuster rule go ...       5          3\n",
      "1989  getting ready celebrate th july big crowd whit...       5          3\n",
      "969   arrived philippines final stop world leaders l...       3          3\n",
      "1005  behalf melania thank unforgettable afternoon e...       5          4\n",
      "1664            thank dishonest fake news media control       5          1\n",
      "2191  big story unmasking surveillance people took p...       3          1\n",
      "28                                    interviewed enjoy       4          1\n",
      "2274  maybe best thing would cancel future press bri...       3          3\n",
      "2530  heard fake news cnn polls despite fact electio...       3          0\n",
      "377   manufacturing growing fastest pace almost two ...       3          2\n",
      "721   today great honor sign largest tax cuts reform...       4          3\n",
      "2352  families prepare summer vacations national par...       3          1\n",
      "...                                                 ...     ...        ...\n",
      "2128  made phony collusion russians story found zero...       5          1\n",
      "2208  north korea shown great disrespect neighbor ch...       3          3\n",
      "2341  big excitement last night great state pennsylv...       6          1\n",
      "1185  subject receipt information allowing president...       2          1\n",
      "2256          great honor deliver congratulations class       3          3\n",
      "1082  great repeal unfair unpopular individual manda...       5          4\n",
      "367                           happy national anthem day       5          1\n",
      "1143  ed gillespie turn really bad virginia economy ...       3          3\n",
      "308   mike pompeo director cia become new secretary ...       2          4\n",
      "462   goal russia create discord disruption chaos wi...       2          1\n",
      "2369  first ninth circuit rules ban hits sanctuary c...       5          3\n",
      "2815  meeting top automobile executives concerning j...       2          1\n",
      "1180  keep hearing tiny amount money spent facebook ...       2          1\n",
      "1918  stock market new time high working new trade d...       3          3\n",
      "1122  happened team hillary played press fools russi...       3          0\n",
      "1134  good luck decision enter wonderful world polit...       3          3\n",
      "901   check recent editorial wall street journal com...       3          4\n",
      "1411  owed wall street banks sadly must dealt food w...       2          4\n",
      "1398      heading meet ambassador great representatives       2          0\n",
      "1512  loser terrorists must dealt much tougher manne...       5          3\n",
      "1149  long anticipated release take place tomorrow i...       3          1\n",
      "2156  honor join coalition yesterday america worship...       6          4\n",
      "555   democrats interested border safety security fu...       6          0\n",
      "159                                    total witch hunt       5          1\n",
      "1600  looking fill positions need many reduce size g...       5          0\n",
      "374   country usa losing many billions dollars trade...       3          0\n",
      "1138  working together defeat free nation terrible a...       3          3\n",
      "1803  dems totally control u senate many great repub...       2          3\n",
      "275                                               great       5          1\n",
      "390   year low illegal border crossings year ice bor...       4          1\n",
      "\n",
      "[423 rows x 3 columns]\n"
     ]
    }
   ],
   "source": [
    "print(final_table)"
   ]
  },
  {
   "cell_type": "code",
   "execution_count": 93,
   "metadata": {},
   "outputs": [
    {
     "name": "stdout",
     "output_type": "stream",
     "text": [
      "[[ 0  0  0  0  0  0  0]\n",
      " [ 0  0  0  0  0  0  0]\n",
      " [11 26  4 20  9  0  0]\n",
      " [12 60  7 55 17  0  0]\n",
      " [ 4 11  4  5  2  0  0]\n",
      " [15 40  2 50 20  0  0]\n",
      " [ 4 20  3  9 13  0  0]]\n",
      "[[0.16 0.37 0.06 0.29 0.13]\n",
      " [0.08 0.4  0.05 0.36 0.11]\n",
      " [0.15 0.42 0.15 0.19 0.08]\n",
      " [0.12 0.31 0.02 0.39 0.16]\n",
      " [0.08 0.41 0.06 0.18 0.27]]\n"
     ]
    },
    {
     "data": {
      "image/png": "[encoded data removed]",
      "text/plain": [
       "<Figure size 1440x960 with 2 Axes>"
      ]
     },
     "metadata": {},
     "output_type": "display_data"
    }
   ],
   "source": [
    "# -*-coding:utf-8-*-\n",
    "from sklearn.metrics import confusion_matrix\n",
    "import matplotlib.pyplot as plt\n",
    "import numpy as np\n",
    "\n",
    "#labels表示你不同类别的代号，比如这里的demo中有13个类别\n",
    "labels = ['0', '1', '2', '3', '4']\n",
    "\n",
    "#y_true代表真实的label值 y_pred代表预测得到的lavel值\n",
    "y_true = test['label']+2\n",
    "y_pred = predict_test_y\n",
    "\n",
    "tick_marks = np.array(range(len(labels))) + 0.5\n",
    "\n",
    "\n",
    "def plot_confusion_matrix(cm, title='Confusion Matrix', cmap=plt.cm.binary):\n",
    "    plt.imshow(cm, interpolation='nearest', cmap=cmap)\n",
    "    plt.title(title)\n",
    "    plt.colorbar()\n",
    "    xlocations = np.array(range(len(labels)))\n",
    "    plt.xticks(xlocations, labels, rotation=90)\n",
    "    plt.yticks(xlocations, labels)\n",
    "    plt.ylabel('True label')\n",
    "    plt.xlabel('Predicted label')\n",
    "\n",
    "\n",
    "cm= confusion_matrix(y_true, y_pred)\n",
    "print(cm)\n",
    "cm=np.delete(cm,0,axis=0)\n",
    "cm=np.delete(cm,0,axis=0)\n",
    "cm=np.delete(cm,5,axis=1)\n",
    "cm=np.delete(cm,5,axis=1)\n",
    "np.set_printoptions(precision=2)\n",
    "cm_normalized = cm.astype('float') / cm.sum(axis=1)[:, np.newaxis]\n",
    "print (cm_normalized)\n",
    "plt.figure(figsize=(12, 8), dpi=120)\n",
    "\n",
    "ind_array = np.arange(len(labels))\n",
    "x, y = np.meshgrid(ind_array, ind_array)\n",
    "\n",
    "for x_val, y_val in zip(x.flatten(), y.flatten()):\n",
    "    c = cm_normalized[y_val][x_val]\n",
    "    if c > 0.01:\n",
    "        plt.text(x_val, y_val, \"%0.2f\" % (c,), color='red', fontsize=5, va='center', ha='center')\n",
    "# offset the tick\n",
    "plt.gca().set_xticks(tick_marks, minor=True)\n",
    "plt.gca().set_yticks(tick_marks, minor=True)\n",
    "plt.gca().xaxis.set_ticks_position('none')\n",
    "plt.gca().yaxis.set_ticks_position('none')\n",
    "plt.grid(True, which='minor', linestyle='-')\n",
    "plt.gcf().subplots_adjust(bottom=0.15)\n",
    "\n",
    "plot_confusion_matrix(cm_normalized, title='Normalized confusion matrix')\n",
    "# show confusion matrix\n",
    "plt.show()"
   ]
  },
  {
   "cell_type": "markdown",
   "metadata": {},
   "source": [
    "history = model.fit(x_train, # Features\n",
    "                      train['label'], # Target\n",
    "                      epochs=20, # Number of epochs\n",
    "                      verbose=1, # No output\n",
    "                      batch_size=100, # Number of observations per batch\n",
    "                      validation_data=(test_features, test_target)) # Data for evaluation"
   ]
  },
  {
   "cell_type": "markdown",
   "metadata": {},
   "source": [
    "model=Sequential()\n",
    "model.add(Dense(50,input_shape=(5000, 1)))\n",
    "#here the standardize is the function we define upwords\n",
    "model.add(Dense(50,activation='relu'))\n",
    "model.add(Flatten())\n",
    "model.add(Dense(5,activation='softmax'))\n",
    "#only with softmax, it is a linear model"
   ]
  },
  {
   "cell_type": "markdown",
   "metadata": {},
   "source": [
    "!pip install pydot"
   ]
  },
  {
   "cell_type": "markdown",
   "metadata": {},
   "source": [
    "class LossHistory(keras.callbacks.Callback):\n",
    "    def on_train_begin(self, logs={}):\n",
    "        self.losses = {'batch':[], 'epoch':[]}\n",
    "        self.accuracy = {'batch':[], 'epoch':[]}\n",
    "        self.val_loss = {'batch':[], 'epoch':[]}\n",
    "        self.val_acc = {'batch':[], 'epoch':[]}\n",
    "\n",
    "    def on_batch_end(self, batch, logs={}):\n",
    "        self.losses['batch'].append(logs.get('loss'))\n",
    "        self.accuracy['batch'].append(logs.get('acc'))\n",
    "        self.val_loss['batch'].append(logs.get('val_loss'))\n",
    "        self.val_acc['batch'].append(logs.get('val_acc'))\n",
    "\n",
    "    def on_epoch_end(self, batch, logs={}):\n",
    "        self.losses['epoch'].append(logs.get('loss'))\n",
    "        self.accuracy['epoch'].append(logs.get('acc'))\n",
    "        self.val_loss['epoch'].append(logs.get('val_loss'))\n",
    "        self.val_acc['epoch'].append(logs.get('val_acc'))\n",
    "\n",
    "    def loss_plot(self, loss_type):\n",
    "        iters = range(len(self.losses[loss_type]))\n",
    "        plt.figure()\n",
    "        # acc\n",
    "        plt.plot(iters, self.accuracy[loss_type], 'r', label='train acc')\n",
    "        # loss\n",
    "        plt.plot(iters, self.losses[loss_type], 'g', label='train loss')\n",
    "        if loss_type == 'epoch':\n",
    "            # val_acc\n",
    "            plt.plot(iters, self.val_acc[loss_type], 'b', label='val acc')\n",
    "            # val_loss\n",
    "            plt.plot(iters, self.val_loss[loss_type], 'k', label='val loss')\n",
    "        plt.grid(True)\n",
    "        plt.xlabel(loss_type)\n",
    "        plt.ylabel('acc-loss')\n",
    "        plt.legend(loc=\"upper right\")\n",
    "        plt.show()"
   ]
  },
  {
   "cell_type": "markdown",
   "metadata": {},
   "source": [
    "batch_size = 128 \n",
    "nb_classes = 5\n",
    "nb_epoch = 20"
   ]
  },
  {
   "cell_type": "markdown",
   "metadata": {},
   "source": [
    "history = LossHistory()\n",
    "model.fit(X_train, Y_train,\n",
    "            batch_size=batch_size, nb_epoch=nb_epoch,\n",
    "            verbose=1, \n",
    "            validation_data=(X_test, Y_test),\n",
    "            callbacks=[history])"
   ]
  },
  {
   "cell_type": "markdown",
   "metadata": {},
   "source": [
    "history.loss_plot('epoch')"
   ]
  }
 ],
 "metadata": {
  "kernelspec": {
   "display_name": "Python 3",
   "language": "python",
   "name": "python3"
  },
  "language_info": {
   "codemirror_mode": {
    "name": "ipython",
    "version": 3
   },
   "file_extension": ".py",
   "mimetype": "text/x-python",
   "name": "python",
   "nbconvert_exporter": "python",
   "pygments_lexer": "ipython3",
   "version": "3.6.5"
  }
 },
 "nbformat": 4,
 "nbformat_minor": 2
}

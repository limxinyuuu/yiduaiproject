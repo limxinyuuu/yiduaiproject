{
 "cells": [
  {
   "cell_type": "code",
   "execution_count": 1,
   "metadata": {},
   "outputs": [],
   "source": [
    "import pandas as pd\n",
    "import numpy as np\n",
    "import re"
   ]
  },
  {
   "cell_type": "code",
   "execution_count": 2,
   "metadata": {},
   "outputs": [],
   "source": [
    "from bs4 import BeautifulSoup"
   ]
  },
  {
   "cell_type": "code",
   "execution_count": 3,
   "metadata": {},
   "outputs": [
    {
     "name": "stdout",
     "output_type": "stream",
     "text": [
      "[nltk_data] Downloading package stopwords to\n",
      "[nltk_data]     C:\\Users\\Admin\\AppData\\Roaming\\nltk_data...\n",
      "[nltk_data]   Package stopwords is already up-to-date!\n"
     ]
    }
   ],
   "source": [
    "import nltk\n",
    "from nltk.corpus import stopwords\n",
    "#nltk.download('stopwords')\n",
    "stopwords = stopwords.words('english')"
   ]
  },
  {
   "cell_type": "code",
   "execution_count": 14,
   "metadata": {},
   "outputs": [],
   "source": [
    "def clean_txt(raw_txt):\n",
    "    # Function to clean raw text\n",
    "    # 1. Remove HTML\n",
    "    raw_txt = re.sub(r'http\\S+', '', raw_txt)\n",
    "    # \n",
    "    # 2. Remove non-letters        \n",
    "    letters_only = re.sub(\"[^a-zA-Z]\", \" \", raw_txt)\n",
    "    # 4. Convert to lower case, split into individual words\n",
    "    words = letters_only.lower().split()                             \n",
    "    stops = set(stopwords)                  \n",
    "    # 5. Remove stop words\n",
    "    meaningful_words = [w for w in words if not w in stopwords]   \n",
    "    #\n",
    "    # 6. Join the words back into one string separated by space, \n",
    "    # and return the result.\n",
    "    return( \" \".join( meaningful_words )) "
   ]
  },
  {
   "cell_type": "code",
   "execution_count": 15,
   "metadata": {},
   "outputs": [],
   "source": [
    "trump_tweets=pd.read_csv(\"C://Users//Admin//Documents//handson//Donald Trump 2017.csv\", sep=\",\",encoding='ISO-8859-1')"
   ]
  },
  {
   "cell_type": "code",
   "execution_count": 16,
   "metadata": {},
   "outputs": [
    {
     "data": {
      "text/html": [
       "<div>\n",
       "<style scoped>\n",
       "    .dataframe tbody tr th:only-of-type {\n",
       "        vertical-align: middle;\n",
       "    }\n",
       "\n",
       "    .dataframe tbody tr th {\n",
       "        vertical-align: top;\n",
       "    }\n",
       "\n",
       "    .dataframe thead th {\n",
       "        text-align: right;\n",
       "    }\n",
       "</style>\n",
       "<table border=\"1\" class=\"dataframe\">\n",
       "  <thead>\n",
       "    <tr style=\"text-align: right;\">\n",
       "      <th></th>\n",
       "      <th>source</th>\n",
       "      <th>text</th>\n",
       "      <th>created_at</th>\n",
       "      <th>retweet_count</th>\n",
       "      <th>favorite_count</th>\n",
       "      <th>is_retweet</th>\n",
       "      <th>id_str</th>\n",
       "    </tr>\n",
       "  </thead>\n",
       "  <tbody>\n",
       "    <tr>\n",
       "      <th>0</th>\n",
       "      <td>Twitter for iPhone</td>\n",
       "      <td>Many reports of peaceful protests by Iranian c...</td>\n",
       "      <td>12-30-2017 03:42:58</td>\n",
       "      <td>60821.0</td>\n",
       "      <td>138901.0</td>\n",
       "      <td>False</td>\n",
       "      <td>9.469497e+17</td>\n",
       "    </tr>\n",
       "    <tr>\n",
       "      <th>1</th>\n",
       "      <td>Twitter for iPhone</td>\n",
       "      <td>The Democrats have been told and fully underst...</td>\n",
       "      <td>12-29-2017 13:16:11</td>\n",
       "      <td>35208.0</td>\n",
       "      <td>142106.0</td>\n",
       "      <td>False</td>\n",
       "      <td>9.467316e+17</td>\n",
       "    </tr>\n",
       "    <tr>\n",
       "      <th>2</th>\n",
       "      <td>Twitter for iPhone</td>\n",
       "      <td>Why is the United States Post Office which is ...</td>\n",
       "      <td>12-29-2017 13:04:09</td>\n",
       "      <td>27652.0</td>\n",
       "      <td>118765.0</td>\n",
       "      <td>False</td>\n",
       "      <td>9.467285e+17</td>\n",
       "    </tr>\n",
       "    <tr>\n",
       "      <th>3</th>\n",
       "      <td>Twitter for iPhone</td>\n",
       "      <td>RT @charliekirk11: Incredible video: @CBS does...</td>\n",
       "      <td>12-29-2017 12:50:17</td>\n",
       "      <td>15548.0</td>\n",
       "      <td>0.0</td>\n",
       "      <td>True</td>\n",
       "      <td>9.467251e+17</td>\n",
       "    </tr>\n",
       "    <tr>\n",
       "      <th>4</th>\n",
       "      <td>Twitter for iPhone</td>\n",
       "      <td>RT @charliekirk11: ISIS getting slaughtered: S...</td>\n",
       "      <td>12-29-2017 12:50:00</td>\n",
       "      <td>18726.0</td>\n",
       "      <td>0.0</td>\n",
       "      <td>True</td>\n",
       "      <td>9.467250e+17</td>\n",
       "    </tr>\n",
       "  </tbody>\n",
       "</table>\n",
       "</div>"
      ],
      "text/plain": [
       "               source                                               text  \\\n",
       "0  Twitter for iPhone  Many reports of peaceful protests by Iranian c...   \n",
       "1  Twitter for iPhone  The Democrats have been told and fully underst...   \n",
       "2  Twitter for iPhone  Why is the United States Post Office which is ...   \n",
       "3  Twitter for iPhone  RT @charliekirk11: Incredible video: @CBS does...   \n",
       "4  Twitter for iPhone  RT @charliekirk11: ISIS getting slaughtered: S...   \n",
       "\n",
       "            created_at  retweet_count  favorite_count is_retweet        id_str  \n",
       "0  12-30-2017 03:42:58        60821.0        138901.0      False  9.469497e+17  \n",
       "1  12-29-2017 13:16:11        35208.0        142106.0      False  9.467316e+17  \n",
       "2  12-29-2017 13:04:09        27652.0        118765.0      False  9.467285e+17  \n",
       "3  12-29-2017 12:50:17        15548.0             0.0       True  9.467251e+17  \n",
       "4  12-29-2017 12:50:00        18726.0             0.0       True  9.467250e+17  "
      ]
     },
     "execution_count": 16,
     "metadata": {},
     "output_type": "execute_result"
    }
   ],
   "source": [
    "trump_tweets.head()"
   ]
  },
  {
   "cell_type": "code",
   "execution_count": 17,
   "metadata": {},
   "outputs": [],
   "source": [
    "trump_tweets = trump_tweets[(trump_tweets['is_retweet'] ==False)]\n"
   ]
  },
  {
   "cell_type": "code",
   "execution_count": 21,
   "metadata": {},
   "outputs": [],
   "source": [
    "titles=['source','text','date','retweet count','favorite count','RT','ID']\n",
    "trump_tweets.columns=titles"
   ]
  },
  {
   "cell_type": "code",
   "execution_count": 24,
   "metadata": {},
   "outputs": [],
   "source": [
    "trump_tweets['date']=pd.to_datetime(trump_tweets['date'])"
   ]
  },
  {
   "cell_type": "code",
   "execution_count": 26,
   "metadata": {},
   "outputs": [
    {
     "name": "stdout",
     "output_type": "stream",
     "text": [
      "                   source                                               text  \\\n",
      "0      Twitter for iPhone  many reports peaceful protests iranian citizen...   \n",
      "1      Twitter for iPhone  democrats told fully understand daca without d...   \n",
      "2      Twitter for iPhone  united states post office losing many billions...   \n",
      "7      Twitter for iPhone  fake news loves talk called low approval ratin...   \n",
      "8      Twitter for iPhone  east could coldest new year eve record perhaps...   \n",
      "9      Twitter for iPhone                      together making america great   \n",
      "14       Twitter for iPad                         saying long long time noko   \n",
      "15     Twitter for iPhone  caught red handed disappointed china allowing ...   \n",
      "16     Twitter for iPhone  retail sales record numbers got economy going ...   \n",
      "17     Twitter for iPhone  vanity fair looks like last legs bending backw...   \n",
      "18     Twitter for iPhone                arrests ms members associates trump   \n",
      "19     Twitter for iPhone  day trump inaugurated estimated isis fighters ...   \n",
      "20     Twitter for iPhone  left west palm beach fire amp rescue met great...   \n",
      "21     Twitter for iPhone  day trump inaugurated estimated isis fighters ...   \n",
      "22     Twitter for iPhone  signs business looking really good next year h...   \n",
      "23     Twitter for iPhone  wow foxandfrlends dossier bogus clinton campai...   \n",
      "24     Twitter for iPhone  based fact unfair unpopular individual mandate...   \n",
      "25     Twitter for iPhone  hope everyone great christmas tomorrow back wo...   \n",
      "27     Twitter for iPhone                                    merry christmas   \n",
      "28     Twitter for iPhone                                    merry christmas   \n",
      "29     Twitter for iPhone  people proud saying merry christmas proud led ...   \n",
      "30     Twitter for iPhone  tax cut reform bill including massive alaska d...   \n",
      "31     Twitter for iPhone  fake news refuses talk big strong base show fa...   \n",
      "33     Twitter for iPhone  foxnews fbi andrew mccabe addition wife gettin...   \n",
      "34     Twitter for iPhone  remember republicans congressional races year ...   \n",
      "35     Twitter for iPhone  stock market setting record record unemploymen...   \n",
      "36     Twitter for iPhone  wow fbi lawyer james baker reassigned accordin...   \n",
      "37     Twitter for iPhone  fbi deputy director andrew mccabe racing clock...   \n",
      "38     Twitter for iPhone  fbi deputy director andrew mccabe man charge a...   \n",
      "40     Twitter for iPhone  remember hated part obamacare individual manda...   \n",
      "...                   ...                                                ...   \n",
      "2553  Twitter for Android  typical political thing blame fact obamacare l...   \n",
      "2554  Twitter for Android  democrats lead head clown chuck schumer know b...   \n",
      "2555   Twitter Web Client  jackie evancho album sales skyrocketed announc...   \n",
      "2556  Twitter for Android  massive increases obamacare take place year de...   \n",
      "2557  Twitter for Android  like hike arizona also deductibles high practi...   \n",
      "2558  Twitter for Android  republicans must careful dems failed obamacare...   \n",
      "2559  Twitter for Android  things said like giving questions debate h tot...   \n",
      "2560  Twitter for Android  somebody hacked dnc hacking defense like rnc r...   \n",
      "2561  Twitter for Android  thank ford scrapping new plant mexico creating...   \n",
      "2562  Twitter for Android  foxnews julian assange u media coverage dishon...   \n",
      "2563  Twitter for Android  julian assange said year old could hacked pode...   \n",
      "2564  Twitter for Android  intelligence briefing called russian hacking d...   \n",
      "2565  Twitter for Android  general news conference january eleventh n c t...   \n",
      "2566   Twitter for iPhone     trump already delivering jobs promised america   \n",
      "2567  Twitter for Android  releases gitmo extremely dangerous people allo...   \n",
      "2568   Twitter for iPhone  instead driving jobs wealth away america becom...   \n",
      "2569   Twitter for iPhone  danscavino ford scrap mexico plant invest mich...   \n",
      "2570  Twitter for Android  may number one act priority focus tax reform h...   \n",
      "2571  Twitter for Android  congress work really make weakening independen...   \n",
      "2572  Twitter for Android  democrat governor minnesota said affordable ca...   \n",
      "2573  Twitter for Android  people must remember obamacare work affordable...   \n",
      "2574  Twitter for Android  general motors sending mexican made model chev...   \n",
      "2575  Twitter for Android  china taking massive amounts money amp wealth ...   \n",
      "2576  Twitter for Android  north korea stated final stages developing nuc...   \n",
      "2577  Twitter for Android  thought felt would win big easily fabled cance...   \n",
      "2578  Twitter for Android  various media outlets pundits say thought goin...   \n",
      "2579  Twitter for Android  cnn released book called unprecedented explore...   \n",
      "2580  Twitter for Android  chicago murder rate record setting shooting vi...   \n",
      "2581  Twitter for Android   well new year begins together make america great   \n",
      "2587   Twitter for iPhone  americans happynewyear amp many blessings look...   \n",
      "\n",
      "                    date  retweet count  favorite count     RT            ID  \n",
      "0    2017-12-30 03:42:58        60821.0        138901.0  False  9.469497e+17  \n",
      "1    2017-12-29 13:16:11        35208.0        142106.0  False  9.467316e+17  \n",
      "2    2017-12-29 13:04:09        27652.0        118765.0  False  9.467285e+17  \n",
      "7    2017-12-29 12:46:23        23184.0         98172.0  False  9.467241e+17  \n",
      "8    2017-12-29 00:01:47        65929.0        204151.0  False  9.465317e+17  \n",
      "9    2017-12-28 23:14:21        15516.0         67092.0  False  9.465197e+17  \n",
      "14   2017-12-28 19:20:47        26402.0         73657.0  False  9.464609e+17  \n",
      "15   2017-12-28 16:24:08        31963.0        124997.0  False  9.464165e+17  \n",
      "16   2017-12-28 16:18:20        21499.0        108370.0  False  9.464150e+17  \n",
      "17   2017-12-28 15:24:53        14587.0         65832.0  False  9.464016e+17  \n",
      "18   2017-12-28 02:46:30        21183.0         84891.0  False  9.462107e+17  \n",
      "19   2017-12-28 02:09:22        19706.0         68505.0  False  9.462014e+17  \n",
      "20   2017-12-27 23:11:13        18464.0        108614.0  False  9.461565e+17  \n",
      "21   2017-12-27 22:49:30        12128.0         38520.0  False  9.461511e+17  \n",
      "22   2017-12-26 22:17:14        25344.0        130759.0  False  9.457806e+17  \n",
      "23   2017-12-26 13:24:27        35628.0        119478.0  False  9.456465e+17  \n",
      "24   2017-12-26 11:58:42        20656.0        110208.0  False  9.456249e+17  \n",
      "25   2017-12-25 23:33:55        34926.0        199932.0  False  9.454375e+17  \n",
      "27   2017-12-25 13:36:51        49883.0        203792.0  False  9.452872e+17  \n",
      "28   2017-12-25 03:51:52        34038.0        151030.0  False  9.451400e+17  \n",
      "29   2017-12-25 02:56:19        55103.0        232320.0  False  9.451260e+17  \n",
      "30   2017-12-24 20:35:26        23221.0        111414.0  False  9.450302e+17  \n",
      "31   2017-12-24 13:48:11        33220.0        140299.0  False  9.449277e+17  \n",
      "33   2017-12-24 12:25:22        29754.0         99677.0  False  9.449068e+17  \n",
      "34   2017-12-23 22:57:50        16929.0         85348.0  False  9.447036e+17  \n",
      "35   2017-12-23 22:44:45        22728.0        101231.0  False  9.447003e+17  \n",
      "36   2017-12-23 20:32:42        16794.0         66132.0  False  9.446671e+17  \n",
      "37   2017-12-23 20:30:06        20991.0         73110.0  False  9.446664e+17  \n",
      "38   2017-12-23 20:27:05        36175.0        121354.0  False  9.446657e+17  \n",
      "40   2017-12-22 22:11:56        25757.0        121704.0  False  9.443297e+17  \n",
      "...                  ...            ...             ...    ...           ...  \n",
      "2553 2017-01-05 12:01:33        12288.0         51725.0  False  8.169779e+17  \n",
      "2554 2017-01-05 11:57:57        13117.0         53297.0  False  8.169770e+17  \n",
      "2555 2017-01-04 18:52:09        17093.0         79498.0  False  8.167189e+17  \n",
      "2556 2017-01-04 14:26:45        13596.0         54146.0  False  8.166521e+17  \n",
      "2557 2017-01-04 14:01:53        11224.0         46485.0  False  8.166458e+17  \n",
      "2558 2017-01-04 13:55:53        11128.0         46212.0  False  8.166443e+17  \n",
      "2559 2017-01-04 13:31:32        10731.0         46561.0  False  8.166382e+17  \n",
      "2560 2017-01-04 13:27:03        10260.0         42611.0  False  8.166371e+17  \n",
      "2561 2017-01-04 13:19:09        19529.0         86542.0  False  8.166351e+17  \n",
      "2562 2017-01-04 13:10:05        14810.0         42047.0  False  8.166328e+17  \n",
      "2563 2017-01-04 12:22:38        18118.0         61018.0  False  8.166209e+17  \n",
      "2564 2017-01-04 01:14:52        23441.0         80009.0  False  8.164528e+17  \n",
      "2565 2017-01-03 23:58:31        14678.0         57750.0  False  8.164336e+17  \n",
      "2566 2017-01-03 18:44:47        14057.0         53127.0  False  8.163546e+17  \n",
      "2567 2017-01-03 17:20:43        20653.0         82862.0  False  8.163335e+17  \n",
      "2568 2017-01-03 17:00:11        12727.0         54691.0  False  8.163283e+17  \n",
      "2569 2017-01-03 16:44:13        15571.0         52850.0  False  8.163243e+17  \n",
      "2570 2017-01-03 15:07:41         9525.0         42800.0  False  8.163000e+17  \n",
      "2571 2017-01-03 15:03:29        10851.0         43062.0  False  8.162989e+17  \n",
      "2572 2017-01-03 12:51:15        12599.0         53372.0  False  8.162657e+17  \n",
      "2573 2017-01-03 12:46:33        14481.0         58809.0  False  8.162645e+17  \n",
      "2574 2017-01-03 12:30:05        18864.0         73104.0  False  8.162603e+17  \n",
      "2575 2017-01-02 23:47:12        17507.0         64480.0  False  8.160684e+17  \n",
      "2576 2017-01-02 23:05:44        26703.0         92256.0  False  8.160579e+17  \n",
      "2577 2017-01-02 18:44:04        13437.0         62670.0  False  8.159921e+17  \n",
      "2578 2017-01-02 18:37:10         9057.0         47285.0  False  8.159903e+17  \n",
      "2579 2017-01-02 18:32:29         3948.0         13862.0  False  8.159892e+17  \n",
      "2580 2017-01-02 17:31:17        17411.0         63340.0  False  8.159738e+17  \n",
      "2581 2017-01-02 14:40:10        29248.0        124024.0  False  8.159307e+17  \n",
      "2587 2017-01-01 05:00:10        32665.0        126230.0  False  8.154223e+17  \n",
      "\n",
      "[2277 rows x 7 columns]\n"
     ]
    }
   ],
   "source": [
    "print(trump_tweets)"
   ]
  },
  {
   "cell_type": "code",
   "execution_count": 34,
   "metadata": {},
   "outputs": [],
   "source": [
    "trump_tweets['text'] = trump_tweets.text.apply(clean_txt)\n",
    "trump_tweets['Date'] = trump_tweets['date'].apply(lambda x:x.date().strftime('%m/%d/%Y'))"
   ]
  },
  {
   "cell_type": "code",
   "execution_count": 49,
   "metadata": {},
   "outputs": [
    {
     "name": "stderr",
     "output_type": "stream",
     "text": [
      "C:\\Users\\Admin\\Anaconda3\\envs\\gensim\\lib\\site-packages\\ipykernel_launcher.py:2: SettingWithCopyWarning: \n",
      "A value is trying to be set on a copy of a slice from a DataFrame.\n",
      "Try using .loc[row_indexer,col_indexer] = value instead\n",
      "\n",
      "See the caveats in the documentation: http://pandas.pydata.org/pandas-docs/stable/indexing.html#indexing-view-versus-copy\n",
      "  \n"
     ]
    }
   ],
   "source": [
    "df_tweets=trump_tweets[['source', 'text','Date']]\n",
    "df_tweets['Date']=pd.to_datetime(df_tweets['Date'])"
   ]
  },
  {
   "cell_type": "code",
   "execution_count": 54,
   "metadata": {},
   "outputs": [],
   "source": [
    "approv_rate=pd.read_csv('C://Users//Admin//Documents//handson//processed data.csv')"
   ]
  },
  {
   "cell_type": "code",
   "execution_count": 55,
   "metadata": {},
   "outputs": [
    {
     "data": {
      "text/html": [
       "<div>\n",
       "<style scoped>\n",
       "    .dataframe tbody tr th:only-of-type {\n",
       "        vertical-align: middle;\n",
       "    }\n",
       "\n",
       "    .dataframe tbody tr th {\n",
       "        vertical-align: top;\n",
       "    }\n",
       "\n",
       "    .dataframe thead th {\n",
       "        text-align: right;\n",
       "    }\n",
       "</style>\n",
       "<table border=\"1\" class=\"dataframe\">\n",
       "  <thead>\n",
       "    <tr style=\"text-align: right;\">\n",
       "      <th></th>\n",
       "      <th>date</th>\n",
       "      <th>approval_date</th>\n",
       "      <th>increase_amount</th>\n",
       "      <th>label</th>\n",
       "    </tr>\n",
       "  </thead>\n",
       "  <tbody>\n",
       "    <tr>\n",
       "      <th>0</th>\n",
       "      <td>11/16/2018</td>\n",
       "      <td>42.45884</td>\n",
       "      <td>0.03883</td>\n",
       "      <td>1</td>\n",
       "    </tr>\n",
       "    <tr>\n",
       "      <th>1</th>\n",
       "      <td>11/15/2018</td>\n",
       "      <td>42.42001</td>\n",
       "      <td>0.40960</td>\n",
       "      <td>2</td>\n",
       "    </tr>\n",
       "    <tr>\n",
       "      <th>2</th>\n",
       "      <td>11/14/2018</td>\n",
       "      <td>42.01041</td>\n",
       "      <td>0.25185</td>\n",
       "      <td>2</td>\n",
       "    </tr>\n",
       "    <tr>\n",
       "      <th>3</th>\n",
       "      <td>11/13/2018</td>\n",
       "      <td>41.75856</td>\n",
       "      <td>-0.04454</td>\n",
       "      <td>-1</td>\n",
       "    </tr>\n",
       "    <tr>\n",
       "      <th>4</th>\n",
       "      <td>11/12/2018</td>\n",
       "      <td>41.80310</td>\n",
       "      <td>-0.36034</td>\n",
       "      <td>-2</td>\n",
       "    </tr>\n",
       "  </tbody>\n",
       "</table>\n",
       "</div>"
      ],
      "text/plain": [
       "         date  approval_date  increase_amount  label\n",
       "0  11/16/2018       42.45884          0.03883      1\n",
       "1  11/15/2018       42.42001          0.40960      2\n",
       "2  11/14/2018       42.01041          0.25185      2\n",
       "3  11/13/2018       41.75856         -0.04454     -1\n",
       "4  11/12/2018       41.80310         -0.36034     -2"
      ]
     },
     "execution_count": 55,
     "metadata": {},
     "output_type": "execute_result"
    }
   ],
   "source": [
    "approv_rate.head()"
   ]
  },
  {
   "cell_type": "code",
   "execution_count": null,
   "metadata": {},
   "outputs": [],
   "source": []
  }
 ],
 "metadata": {
  "kernelspec": {
   "display_name": "Python 3",
   "language": "python",
   "name": "python3"
  },
  "language_info": {
   "codemirror_mode": {
    "name": "ipython",
    "version": 3
   },
   "file_extension": ".py",
   "mimetype": "text/x-python",
   "name": "python",
   "nbconvert_exporter": "python",
   "pygments_lexer": "ipython3",
   "version": "3.6.7"
  }
 },
 "nbformat": 4,
 "nbformat_minor": 2
}
